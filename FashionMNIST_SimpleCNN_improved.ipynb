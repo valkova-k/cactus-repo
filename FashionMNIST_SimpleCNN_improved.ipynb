{
  "cells": [
    {
      "cell_type": "markdown",
      "metadata": {
        "id": "view-in-github",
        "colab_type": "text"
      },
      "source": [
        "<a href=\"https://colab.research.google.com/github/valkova-k/cactus-repo/blob/br01/FashionMNIST_SimpleCNN_improved.ipynb\" target=\"_parent\"><img src=\"https://colab.research.google.com/assets/colab-badge.svg\" alt=\"Open In Colab\"/></a>"
      ]
    },
    {
      "cell_type": "markdown",
      "metadata": {
        "id": "B5j8Ih8JeWh8"
      },
      "source": [
        "Let's build a simple neural network to classify images from the FashionMNIST dataset.\n",
        "\n",
        "**1. Import Libraries**"
      ]
    },
    {
      "cell_type": "code",
      "execution_count": null,
      "metadata": {
        "id": "MBQVdt1S-MT9"
      },
      "outputs": [],
      "source": [
        "import torch\n",
        "import torch.nn as nn\n",
        "import torch.nn.functional as F\n",
        "import torch.optim as optim\n",
        "from torchvision import datasets, transforms"
      ]
    },
    {
      "cell_type": "code",
      "execution_count": null,
      "metadata": {
        "id": "6Okv82FbPBc1"
      },
      "outputs": [],
      "source": [
        "import random\n",
        "import numpy as np\n",
        "\n",
        "seed = 42\n",
        "torch.manual_seed(seed)\n",
        "random.seed(seed)\n",
        "np.random.seed(seed)\n",
        "\n",
        "if torch.cuda.is_available():\n",
        "    torch.cuda.manual_seed(seed)\n",
        "    torch.cuda.manual_seed_all(seed)\n",
        "\n",
        "torch.backends.cudnn.deterministic = True\n",
        "torch.backends.cudnn.benchmark = False"
      ]
    },
    {
      "cell_type": "markdown",
      "metadata": {
        "id": "zhodnFckeudX"
      },
      "source": [
        "*Checking for GPU Availability*\n",
        "\n",
        "This code checks if a CUDA-enabled GPU is available and sets the `device` accordingly. If no GPU is available, it defaults to the CPU."
      ]
    },
    {
      "cell_type": "code",
      "execution_count": null,
      "metadata": {
        "colab": {
          "base_uri": "https://localhost:8080/"
        },
        "id": "7dFBM3DFB60w",
        "outputId": "bb99c350-5e21-4692-f63a-2bef630b60f5"
      },
      "outputs": [
        {
          "name": "stdout",
          "output_type": "stream",
          "text": [
            "Using device: cuda\n"
          ]
        }
      ],
      "source": [
        "# Check if GPU is available\n",
        "device = torch.device('cuda' if torch.cuda.is_available() else 'cpu')\n",
        "print(f'Using device: {device}')"
      ]
    },
    {
      "cell_type": "markdown",
      "metadata": {
        "id": "Abf1Alkfe302"
      },
      "source": [
        "**2. Data Preparation**"
      ]
    },
    {
      "cell_type": "code",
      "execution_count": null,
      "metadata": {
        "colab": {
          "base_uri": "https://localhost:8080/"
        },
        "id": "K47TtwmA-Z8x",
        "outputId": "46ff2698-26c8-4c1c-fff1-cc877ea28927"
      },
      "outputs": [
        {
          "name": "stderr",
          "output_type": "stream",
          "text": [
            "100%|██████████| 26.4M/26.4M [00:02<00:00, 11.2MB/s]\n",
            "100%|██████████| 29.5k/29.5k [00:00<00:00, 172kB/s]\n",
            "100%|██████████| 4.42M/4.42M [00:01<00:00, 3.25MB/s]\n",
            "100%|██████████| 5.15k/5.15k [00:00<00:00, 13.4MB/s]\n"
          ]
        }
      ],
      "source": [
        "# Define a transform to convert images to tensors\n",
        "transform = transforms.ToTensor()\n",
        "\n",
        "# Download and load the training data\n",
        "train_set = datasets.FashionMNIST(root='./data', train=True, download=True, transform=transform)\n",
        "train_loader = torch.utils.data.DataLoader(train_set, batch_size=128, shuffle=True)    # smaller batch size\n",
        "\n",
        "# Download and load the test data\n",
        "test_set = datasets.FashionMNIST(root='./data', train=False, download=True, transform=transform)\n",
        "test_loader = torch.utils.data.DataLoader(test_set, batch_size=256, shuffle=False)"
      ]
    },
    {
      "cell_type": "markdown",
      "metadata": {
        "id": "KD7S6DsPe8ym"
      },
      "source": [
        "**3. Neural Network Model**"
      ]
    },
    {
      "cell_type": "code",
      "execution_count": null,
      "metadata": {
        "colab": {
          "base_uri": "https://localhost:8080/"
        },
        "id": "twFKRzDA-lnB",
        "outputId": "cfdae512-0a7d-4189-c2d0-becf6d8736b0"
      },
      "outputs": [
        {
          "data": {
            "text/plain": [
              "SimpleCNN(\n",
              "  (conv1): Conv2d(1, 32, kernel_size=(3, 3), stride=(1, 1))\n",
              "  (conv2): Conv2d(32, 64, kernel_size=(3, 3), stride=(1, 1))\n",
              "  (conv3): Conv2d(64, 128, kernel_size=(3, 3), stride=(1, 1))\n",
              "  (flat): Flatten(start_dim=1, end_dim=-1)\n",
              "  (fc1): Linear(in_features=61952, out_features=256, bias=True)\n",
              "  (drop): Dropout(p=0.25, inplace=False)\n",
              "  (fc2): Linear(in_features=256, out_features=10, bias=True)\n",
              ")"
            ]
          },
          "execution_count": 5,
          "metadata": {},
          "output_type": "execute_result"
        }
      ],
      "source": [
        "class SimpleCNN(nn.Module):\n",
        "    def __init__(self):\n",
        "        super(SimpleCNN, self).__init__()\n",
        "        self.conv1 = nn.Conv2d(in_channels=1, out_channels=32, kernel_size=3)\n",
        "        self.conv2 = nn.Conv2d(in_channels=32, out_channels=64, kernel_size=3)\n",
        "        self.conv3 = nn.Conv2d(in_channels=64, out_channels=128, kernel_size=3)    # added 3rd convolution layer\n",
        "        self.flat = nn.Flatten()\n",
        "        self.fc1 = nn.Linear(in_features=22*22*128, out_features=256)\n",
        "        self.drop = nn.Dropout(0.25)\n",
        "        self.fc2 = nn.Linear(in_features=256, out_features=10)\n",
        "\n",
        "    def forward(self, x):\n",
        "        x = F.relu(self.conv1(x))\n",
        "        x = F.relu(self.conv2(x))\n",
        "        x = F.relu(self.conv3(x))\n",
        "        x = self.flat(x)\n",
        "        x = F.relu(self.fc1(x))\n",
        "        x = self.drop(x)\n",
        "        x = self.fc2(x)\n",
        "        return x\n",
        "\n",
        "model = SimpleCNN().to(device)\n",
        "model"
      ]
    },
    {
      "cell_type": "markdown",
      "metadata": {
        "id": "_1FrTseTgr29"
      },
      "source": [
        "**4. Loss & Optimizer**"
      ]
    },
    {
      "cell_type": "code",
      "execution_count": null,
      "metadata": {
        "id": "IJPpEm9n-zB6"
      },
      "outputs": [],
      "source": [
        "criterion = nn.CrossEntropyLoss(label_smoothing=0.1)    # added label smoothing for better regularization\n",
        "optimizer = optim.SGD(model.parameters(), lr=0.05, momentum=0.9, weight_decay=1e-4, nesterov=True)    # added momentum (to speed up convergence), weight decay (penalizing large weights to reduce overfitting), nesterov momentum\n",
        "scheduler = optim.lr_scheduler.MultiStepLR(optimizer, milestones=[10, 20, 30], gamma=0.5)     # reduces lr during training, lr is multiplied by 0.5 after 10 epochs"
      ]
    },
    {
      "cell_type": "markdown",
      "metadata": {
        "id": "HncQZoLcgywM"
      },
      "source": [
        "**5. Training loop**"
      ]
    },
    {
      "cell_type": "code",
      "execution_count": null,
      "metadata": {
        "colab": {
          "background_save": true,
          "base_uri": "https://localhost:8080/"
        },
        "id": "5PYUAF99_Qsc",
        "outputId": "4c1502e1-0518-421a-bafd-760c21643f6c"
      },
      "outputs": [
        {
          "name": "stdout",
          "output_type": "stream",
          "text": [
            "Epoch [1/35], Loss: 0.9720, LR: 0.05000\n",
            "Epoch [2/35], Loss: 0.7761, LR: 0.05000\n",
            "Epoch [3/35], Loss: 0.7237, LR: 0.05000\n",
            "Epoch [4/35], Loss: 0.6897, LR: 0.05000\n",
            "Epoch [5/35], Loss: 0.6610, LR: 0.05000\n",
            "Epoch [6/35], Loss: 0.6370, LR: 0.05000\n",
            "Epoch [7/35], Loss: 0.6155, LR: 0.05000\n",
            "Epoch [8/35], Loss: 0.5954, LR: 0.05000\n",
            "Epoch [9/35], Loss: 0.5795, LR: 0.05000\n",
            "Epoch [10/35], Loss: 0.5663, LR: 0.02500\n",
            "Epoch [11/35], Loss: 0.5501, LR: 0.02500\n",
            "Epoch [12/35], Loss: 0.5436, LR: 0.02500\n",
            "Epoch [13/35], Loss: 0.5401, LR: 0.02500\n",
            "Epoch [14/35], Loss: 0.5374, LR: 0.02500\n",
            "Epoch [15/35], Loss: 0.5353, LR: 0.02500\n",
            "Epoch [16/35], Loss: 0.5336, LR: 0.02500\n",
            "Epoch [17/35], Loss: 0.5319, LR: 0.02500\n",
            "Epoch [18/35], Loss: 0.5305, LR: 0.02500\n",
            "Epoch [19/35], Loss: 0.5294, LR: 0.02500\n",
            "Epoch [20/35], Loss: 0.5283, LR: 0.01250\n",
            "Epoch [21/35], Loss: 0.5263, LR: 0.01250\n",
            "Epoch [22/35], Loss: 0.5253, LR: 0.01250\n",
            "Epoch [23/35], Loss: 0.5247, LR: 0.01250\n",
            "Epoch [24/35], Loss: 0.5244, LR: 0.01250\n",
            "Epoch [25/35], Loss: 0.5236, LR: 0.01250\n",
            "Epoch [26/35], Loss: 0.5234, LR: 0.01250\n",
            "Epoch [27/35], Loss: 0.5231, LR: 0.01250\n",
            "Epoch [28/35], Loss: 0.5229, LR: 0.01250\n",
            "Epoch [29/35], Loss: 0.5223, LR: 0.01250\n",
            "Epoch [30/35], Loss: 0.5221, LR: 0.00625\n",
            "Epoch [31/35], Loss: 0.5213, LR: 0.00625\n",
            "Epoch [32/35], Loss: 0.5210, LR: 0.00625\n",
            "Epoch [33/35], Loss: 0.5205, LR: 0.00625\n",
            "Epoch [34/35], Loss: 0.5205, LR: 0.00625\n",
            "Epoch [35/35], Loss: 0.5204, LR: 0.00625\n"
          ]
        }
      ],
      "source": [
        "for epoch in range(35):  # Train for 35 epochs\n",
        "    running_loss = 0.0\n",
        "    model.train()\n",
        "    for images, labels in train_loader:\n",
        "        # Move images and labels to the device\n",
        "        images = images.to(device)\n",
        "        labels = labels.to(device)\n",
        "\n",
        "        # Zero the parameter gradients\n",
        "        optimizer.zero_grad()\n",
        "\n",
        "        # Forward pass\n",
        "        outputs = model(images)\n",
        "        loss = criterion(outputs, labels)\n",
        "\n",
        "        # Backward pass and optimize\n",
        "        loss.backward()\n",
        "        torch.nn.utils.clip_grad_norm_(model.parameters(), 1.0)    # prevent exploding gradients by limiting their norm to 1.0\n",
        "        optimizer.step()\n",
        "\n",
        "        running_loss += loss.item()\n",
        "\n",
        "    scheduler.step()\n",
        "    current_lr = scheduler.get_last_lr()[0]\n",
        "    print(f'Epoch [{epoch+1}/35], Loss: {running_loss / len(train_loader):.4f}, LR: {current_lr:.5f}')"
      ]
    },
    {
      "cell_type": "markdown",
      "metadata": {
        "id": "u4qK5d5Og608"
      },
      "source": [
        "**6. Evaluation on the test set**"
      ]
    },
    {
      "cell_type": "code",
      "execution_count": null,
      "metadata": {
        "colab": {
          "background_save": true
        },
        "id": "HQTk85Jt_TXb",
        "outputId": "80ab6f9c-7fd6-46f5-dbe3-30f7ab9c554c"
      },
      "outputs": [
        {
          "name": "stdout",
          "output_type": "stream",
          "text": [
            "Accuracy: 92.74%\n"
          ]
        }
      ],
      "source": [
        "correct = 0\n",
        "total = 0\n",
        "with torch.no_grad():  # Disable gradient calculation for evaluation\n",
        "    for images, labels in test_loader:\n",
        "        # Move images and labels to the device\n",
        "        images = images.to(device)\n",
        "        labels = labels.to(device)\n",
        "\n",
        "        outputs = model(images)\n",
        "        _, predicted = torch.max(outputs, 1)\n",
        "        total += labels.size(0)\n",
        "        correct += (predicted == labels).sum().item()\n",
        "\n",
        "print(f'Accuracy: {100 * correct / total:.2f}%')"
      ]
    }
  ],
  "metadata": {
    "accelerator": "GPU",
    "colab": {
      "gpuType": "T4",
      "provenance": [],
      "include_colab_link": true
    },
    "kernelspec": {
      "display_name": "Python 3",
      "name": "python3"
    },
    "language_info": {
      "name": "python"
    }
  },
  "nbformat": 4,
  "nbformat_minor": 0
}