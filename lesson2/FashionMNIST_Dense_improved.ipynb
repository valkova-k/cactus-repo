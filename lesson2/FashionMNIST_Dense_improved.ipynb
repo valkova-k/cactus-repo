{
  "cells": [
    {
      "cell_type": "markdown",
      "metadata": {
        "id": "view-in-github",
        "colab_type": "text"
      },
      "source": [
        "<a href=\"https://colab.research.google.com/github/valkova-k/cactus-repo/blob/br01/FashionMNIST_Dense_improved.ipynb\" target=\"_parent\"><img src=\"https://colab.research.google.com/assets/colab-badge.svg\" alt=\"Open In Colab\"/></a>"
      ]
    },
    {
      "cell_type": "markdown",
      "metadata": {
        "id": "B5j8Ih8JeWh8"
      },
      "source": [
        "Let's build a simple neural network to classify images from the FashionMNIST dataset.\n",
        "\n",
        "**1. Import Libraries**"
      ]
    },
    {
      "cell_type": "code",
      "execution_count": null,
      "metadata": {
        "id": "MBQVdt1S-MT9"
      },
      "outputs": [],
      "source": [
        "import torch\n",
        "import torch.nn as nn\n",
        "import torch.nn.functional as F\n",
        "import torch.optim as optim\n",
        "from torchvision import datasets, transforms"
      ]
    },
    {
      "cell_type": "code",
      "source": [
        "import random\n",
        "import numpy as np\n",
        "\n",
        "seed = 42\n",
        "torch.manual_seed(seed)\n",
        "random.seed(seed)\n",
        "np.random.seed(seed)\n",
        "\n",
        "if torch.cuda.is_available():\n",
        "    torch.cuda.manual_seed(seed)\n",
        "    torch.cuda.manual_seed_all(seed)\n",
        "\n",
        "torch.backends.cudnn.deterministic = True\n",
        "torch.backends.cudnn.benchmark = False"
      ],
      "metadata": {
        "id": "eRvyranULMLy"
      },
      "execution_count": null,
      "outputs": []
    },
    {
      "cell_type": "markdown",
      "metadata": {
        "id": "zhodnFckeudX"
      },
      "source": [
        "*Checking for GPU Availability*\n",
        "\n",
        "This code checks if a CUDA-enabled GPU is available and sets the `device` accordingly. If no GPU is available, it defaults to the CPU."
      ]
    },
    {
      "cell_type": "code",
      "execution_count": null,
      "metadata": {
        "id": "7dFBM3DFB60w",
        "colab": {
          "base_uri": "https://localhost:8080/"
        },
        "outputId": "e6c8cd5d-856e-47eb-e09e-8d19024ed98a"
      },
      "outputs": [
        {
          "output_type": "stream",
          "name": "stdout",
          "text": [
            "Using device: cpu\n"
          ]
        }
      ],
      "source": [
        "# Check if GPU is available\n",
        "device = torch.device('cuda' if torch.cuda.is_available() else 'cpu')\n",
        "print(f'Using device: {device}')"
      ]
    },
    {
      "cell_type": "markdown",
      "metadata": {
        "id": "Abf1Alkfe302"
      },
      "source": [
        "**2. Data Preparation**"
      ]
    },
    {
      "cell_type": "code",
      "execution_count": null,
      "metadata": {
        "id": "K47TtwmA-Z8x",
        "colab": {
          "base_uri": "https://localhost:8080/"
        },
        "outputId": "4f3e94f9-acc5-442c-a907-d27de968ccdb"
      },
      "outputs": [
        {
          "output_type": "stream",
          "name": "stderr",
          "text": [
            "100%|██████████| 26.4M/26.4M [00:03<00:00, 8.50MB/s]\n",
            "100%|██████████| 29.5k/29.5k [00:00<00:00, 131kB/s]\n",
            "100%|██████████| 4.42M/4.42M [00:01<00:00, 2.48MB/s]\n",
            "100%|██████████| 5.15k/5.15k [00:00<00:00, 17.6MB/s]\n"
          ]
        }
      ],
      "source": [
        "# Define a transform to convert images to tensors\n",
        "transform = transforms.ToTensor()\n",
        "\n",
        "# Download and load the training data\n",
        "train_set = datasets.FashionMNIST(root='./data', train=True, download=True, transform=transform)\n",
        "train_loader = torch.utils.data.DataLoader(train_set, batch_size=256, shuffle=True)\n",
        "\n",
        "# Download and load the test data\n",
        "test_set = datasets.FashionMNIST(root='./data', train=False, download=True, transform=transform)\n",
        "test_loader = torch.utils.data.DataLoader(test_set, batch_size=256, shuffle=False)"
      ]
    },
    {
      "cell_type": "markdown",
      "metadata": {
        "id": "KD7S6DsPe8ym"
      },
      "source": [
        "**3. Neural Network Model**"
      ]
    },
    {
      "cell_type": "code",
      "execution_count": null,
      "metadata": {
        "id": "twFKRzDA-lnB",
        "colab": {
          "base_uri": "https://localhost:8080/"
        },
        "outputId": "7e8753fc-6c38-49a7-cf1a-9510c553b932"
      },
      "outputs": [
        {
          "output_type": "execute_result",
          "data": {
            "text/plain": [
              "DenseNet(\n",
              "  (flatten): Flatten(start_dim=1, end_dim=-1)\n",
              "  (fc1): Linear(in_features=784, out_features=128, bias=True)\n",
              "  (fc2): Linear(in_features=128, out_features=10, bias=True)\n",
              ")"
            ]
          },
          "metadata": {},
          "execution_count": 5
        }
      ],
      "source": [
        "class DenseNet(nn.Module):\n",
        "    def __init__(self):\n",
        "        super(DenseNet, self).__init__()\n",
        "        self.flatten = nn.Flatten()\n",
        "        self.fc1 = nn.Linear(28 * 28, 128)\n",
        "        self.fc2 = nn.Linear(128, 10)\n",
        "\n",
        "    def forward(self, x):\n",
        "        x = self.flatten(x)\n",
        "        x = F.relu(self.fc1(x))\n",
        "        x = self.fc2(x)\n",
        "        return x\n",
        "\n",
        "model = DenseNet().to(device)\n",
        "model"
      ]
    },
    {
      "cell_type": "markdown",
      "metadata": {
        "id": "_1FrTseTgr29"
      },
      "source": [
        "**4. Loss & Optimizer**"
      ]
    },
    {
      "cell_type": "code",
      "execution_count": null,
      "metadata": {
        "id": "IJPpEm9n-zB6"
      },
      "outputs": [],
      "source": [
        "criterion = nn.CrossEntropyLoss(label_smoothing=0.05)   # added label smoothing for better regularization\n",
        "optimizer = optim.SGD(model.parameters(), lr=0.05, momentum=0.9, weight_decay=1e-4, nesterov=True)    # added momentum (to speed up convergence), weight decay (penalizing large weights to reduce overfitting), nesterov momentum\n",
        "scheduler = optim.lr_scheduler.MultiStepLR(optimizer, milestones=[10, 20], gamma=0.5)   # reduces lr during training, lr is multiplied by 0.5 after 10 epochs"
      ]
    },
    {
      "cell_type": "markdown",
      "metadata": {
        "id": "HncQZoLcgywM"
      },
      "source": [
        "**5. Training loop**"
      ]
    },
    {
      "cell_type": "code",
      "execution_count": null,
      "metadata": {
        "id": "5PYUAF99_Qsc",
        "colab": {
          "base_uri": "https://localhost:8080/"
        },
        "outputId": "6b122584-b9e2-4c55-faa8-a7fca78b4820"
      },
      "outputs": [
        {
          "output_type": "stream",
          "name": "stdout",
          "text": [
            "Epoch [1/30], Loss: 0.8654, LR: 0.05000\n",
            "Epoch [2/30], Loss: 0.6794, LR: 0.05000\n",
            "Epoch [3/30], Loss: 0.6383, LR: 0.05000\n",
            "Epoch [4/30], Loss: 0.6157, LR: 0.05000\n",
            "Epoch [5/30], Loss: 0.5981, LR: 0.05000\n",
            "Epoch [6/30], Loss: 0.5839, LR: 0.05000\n",
            "Epoch [7/30], Loss: 0.5738, LR: 0.05000\n",
            "Epoch [8/30], Loss: 0.5629, LR: 0.05000\n",
            "Epoch [9/30], Loss: 0.5554, LR: 0.05000\n",
            "Epoch [10/30], Loss: 0.5474, LR: 0.02500\n",
            "Epoch [11/30], Loss: 0.5317, LR: 0.02500\n",
            "Epoch [12/30], Loss: 0.5266, LR: 0.02500\n",
            "Epoch [13/30], Loss: 0.5229, LR: 0.02500\n",
            "Epoch [14/30], Loss: 0.5185, LR: 0.02500\n",
            "Epoch [15/30], Loss: 0.5166, LR: 0.02500\n",
            "Epoch [16/30], Loss: 0.5137, LR: 0.02500\n",
            "Epoch [17/30], Loss: 0.5103, LR: 0.02500\n",
            "Epoch [18/30], Loss: 0.5081, LR: 0.02500\n",
            "Epoch [19/30], Loss: 0.5045, LR: 0.02500\n",
            "Epoch [20/30], Loss: 0.5019, LR: 0.01250\n",
            "Epoch [21/30], Loss: 0.4927, LR: 0.01250\n",
            "Epoch [22/30], Loss: 0.4912, LR: 0.01250\n",
            "Epoch [23/30], Loss: 0.4893, LR: 0.01250\n",
            "Epoch [24/30], Loss: 0.4884, LR: 0.01250\n",
            "Epoch [25/30], Loss: 0.4864, LR: 0.01250\n",
            "Epoch [26/30], Loss: 0.4854, LR: 0.01250\n",
            "Epoch [27/30], Loss: 0.4842, LR: 0.01250\n",
            "Epoch [28/30], Loss: 0.4823, LR: 0.01250\n",
            "Epoch [29/30], Loss: 0.4809, LR: 0.01250\n",
            "Epoch [30/30], Loss: 0.4797, LR: 0.01250\n"
          ]
        }
      ],
      "source": [
        "for epoch in range(30):  # Train for 30 epochs\n",
        "    running_loss = 0.0\n",
        "    for images, labels in train_loader:\n",
        "        # Move images and labels to the device\n",
        "        images = images.to(device)\n",
        "        labels = labels.to(device)\n",
        "\n",
        "        # Zero the parameter gradients\n",
        "        optimizer.zero_grad()\n",
        "\n",
        "        # Forward pass\n",
        "        outputs = model(images)\n",
        "        loss = criterion(outputs, labels)\n",
        "\n",
        "        # Backward pass and optimize\n",
        "        loss.backward()\n",
        "        torch.nn.utils.clip_grad_norm_(model.parameters(), 1.0)\n",
        "        optimizer.step()\n",
        "\n",
        "        running_loss += loss.item()\n",
        "\n",
        "    scheduler.step()\n",
        "    current_lr = scheduler.get_last_lr()[0]\n",
        "    print(f'Epoch [{epoch+1}/30], Loss: {running_loss / len(train_loader):.4f}, LR: {current_lr:.5f}')"
      ]
    },
    {
      "cell_type": "markdown",
      "metadata": {
        "id": "u4qK5d5Og608"
      },
      "source": [
        "**6. Evaluation on the test set**"
      ]
    },
    {
      "cell_type": "code",
      "execution_count": null,
      "metadata": {
        "id": "HQTk85Jt_TXb",
        "colab": {
          "base_uri": "https://localhost:8080/"
        },
        "outputId": "018afce4-cda0-46da-832d-da6110210f1e"
      },
      "outputs": [
        {
          "output_type": "stream",
          "name": "stdout",
          "text": [
            "Accuracy: 88.93%\n"
          ]
        }
      ],
      "source": [
        "correct = 0\n",
        "total = 0\n",
        "with torch.no_grad():  # Disable gradient calculation for evaluation\n",
        "    for images, labels in test_loader:\n",
        "        # Move images and labels to the device\n",
        "        images = images.to(device)\n",
        "        labels = labels.to(device)\n",
        "\n",
        "        outputs = model(images)\n",
        "        _, predicted = torch.max(outputs, 1)\n",
        "        total += labels.size(0)\n",
        "        correct += (predicted == labels).sum().item()\n",
        "\n",
        "print(f'Accuracy: {100 * correct / total:.2f}%')"
      ]
    },
    {
      "cell_type": "code",
      "execution_count": null,
      "metadata": {
        "id": "WeLdrT_jC4wn"
      },
      "outputs": [],
      "source": []
    }
  ],
  "metadata": {
    "accelerator": "GPU",
    "colab": {
      "gpuType": "T4",
      "provenance": [],
      "include_colab_link": true
    },
    "kernelspec": {
      "display_name": "Python 3",
      "name": "python3"
    },
    "language_info": {
      "name": "python"
    }
  },
  "nbformat": 4,
  "nbformat_minor": 0
}
